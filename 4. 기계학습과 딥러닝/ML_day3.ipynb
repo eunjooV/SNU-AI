{
 "cells": [
  {
   "cell_type": "code",
   "execution_count": 1,
   "metadata": {},
   "outputs": [],
   "source": [
    "import numpy as np\n",
    "import os\n",
    "%matplotlib inline\n",
    "import matplotlib as mpl\n",
    "import matplotlib.pyplot as plt\n",
    "import pandas as pd"
   ]
  },
  {
   "cell_type": "markdown",
   "metadata": {},
   "source": [
    "# Classification"
   ]
  },
  {
   "cell_type": "markdown",
   "metadata": {},
   "source": [
    "### 이진 분류기 훈련"
   ]
  },
  {
   "cell_type": "code",
   "execution_count": 2,
   "metadata": {},
   "outputs": [],
   "source": [
    "# import tensorflow as tf\n",
    "\n",
    "# Download the mnist dataset using keras\n",
    "data_train = pd.read_csv('./sign_mnist_train.csv')\n",
    "data_test = pd.read_csv('./sign_mnist_test.csv')\n",
    "\n",
    "# Parse images and labels\n",
    "labels_train = np.array(data_train['label'])\n",
    "images_train = np.array(data_train.drop('label',1))\n",
    "\n",
    "labels_test = np.array(data_test['label'])\n",
    "images_test = np.array(data_test.drop('label',1))"
   ]
  },
  {
   "cell_type": "code",
   "execution_count": 3,
   "metadata": {},
   "outputs": [
    {
     "data": {
      "text/plain": [
       "array([[107, 118, 127, ..., 204, 203, 202],\n",
       "       [155, 157, 156, ..., 103, 135, 149],\n",
       "       [187, 188, 188, ..., 195, 194, 195],\n",
       "       ...,\n",
       "       [174, 174, 174, ..., 202, 200, 200],\n",
       "       [177, 181, 184, ...,  64,  87,  93],\n",
       "       [179, 180, 180, ..., 205, 209, 215]], dtype=int64)"
      ]
     },
     "execution_count": 3,
     "metadata": {},
     "output_type": "execute_result"
    }
   ],
   "source": [
    "images_train"
   ]
  },
  {
   "cell_type": "code",
   "execution_count": 4,
   "metadata": {},
   "outputs": [
    {
     "data": {
      "text/plain": [
       "(27455, 784)"
      ]
     },
     "execution_count": 4,
     "metadata": {},
     "output_type": "execute_result"
    }
   ],
   "source": [
    "X_train, y_train = images_train.reshape(-1,28*28), labels_train\n",
    "X_test, y_test = images_test.reshape(-1,28*28), labels_test\n",
    "X_train.shape"
   ]
  },
  {
   "cell_type": "code",
   "execution_count": 5,
   "metadata": {},
   "outputs": [
    {
     "data": {
      "text/plain": [
       "(27455,)"
      ]
     },
     "execution_count": 5,
     "metadata": {},
     "output_type": "execute_result"
    }
   ],
   "source": [
    "y_train.shape"
   ]
  },
  {
   "cell_type": "code",
   "execution_count": 6,
   "metadata": {},
   "outputs": [
    {
     "data": {
      "image/png": "[encoded data removed]",
      "text/plain": [
       "<Figure size 432x288 with 1 Axes>"
      ]
     },
     "metadata": {
      "needs_background": "light"
     },
     "output_type": "display_data"
    }
   ],
   "source": [
    "first_digit = X_train[0]\n",
    "first_digit_image = first_digit.reshape(28, 28)\n",
    "plt.imshow(first_digit_image, cmap=mpl.cm.binary)\n",
    "plt.axis(\"off\")\n",
    "plt.show()"
   ]
  },
  {
   "cell_type": "code",
   "execution_count": 7,
   "metadata": {},
   "outputs": [],
   "source": [
    "y_train = y_train.astype(np.uint8)\n",
    "y_test = y_test.astype(np.uint8)"
   ]
  },
  {
   "cell_type": "code",
   "execution_count": 8,
   "metadata": {},
   "outputs": [
    {
     "data": {
      "text/plain": [
       "3"
      ]
     },
     "execution_count": 8,
     "metadata": {},
     "output_type": "execute_result"
    }
   ],
   "source": [
    "y_train[0]"
   ]
  },
  {
   "cell_type": "code",
   "execution_count": 9,
   "metadata": {},
   "outputs": [],
   "source": [
    "# For binary classification: 3 vs Not 3\n",
    "y_train_3 = (y_train == 3)\n",
    "y_test_3 = (y_test == 3)"
   ]
  },
  {
   "cell_type": "code",
   "execution_count": 10,
   "metadata": {},
   "outputs": [
    {
     "data": {
      "text/plain": [
       "array([ True, False, False, ..., False, False, False])"
      ]
     },
     "execution_count": 10,
     "metadata": {},
     "output_type": "execute_result"
    }
   ],
   "source": [
    "y_train_3"
   ]
  },
  {
   "cell_type": "code",
   "execution_count": 11,
   "metadata": {},
   "outputs": [],
   "source": [
    "X_train = X_train[:5000,:]\n",
    "y_train_3 = y_train_3[:5000]"
   ]
  },
  {
   "cell_type": "code",
   "execution_count": 12,
   "metadata": {},
   "outputs": [
    {
     "data": {
      "text/plain": [
       "array([ True])"
      ]
     },
     "execution_count": 12,
     "metadata": {},
     "output_type": "execute_result"
    }
   ],
   "source": [
    "from sklearn.svm import SVC\n",
    "svc = SVC()\n",
    "\n",
    "svc.fit(X_train, y_train_3)\n",
    "svc.predict([first_digit])"
   ]
  },
  {
   "cell_type": "markdown",
   "metadata": {},
   "source": [
    "### 성능 측정"
   ]
  },
  {
   "cell_type": "code",
   "execution_count": 13,
   "metadata": {},
   "outputs": [],
   "source": [
    "y_train_pred = svc.predict(X_train)"
   ]
  },
  {
   "cell_type": "code",
   "execution_count": 14,
   "metadata": {},
   "outputs": [
    {
     "data": {
      "text/plain": [
       "array([ True, False, False, ..., False, False, False])"
      ]
     },
     "execution_count": 14,
     "metadata": {},
     "output_type": "execute_result"
    }
   ],
   "source": [
    "y_train_pred"
   ]
  },
  {
   "cell_type": "code",
   "execution_count": 15,
   "metadata": {},
   "outputs": [
    {
     "name": "stdout",
     "output_type": "stream",
     "text": [
      "[True Negative,   False Positive]\n",
      "[False Negative,  True Positive]\n",
      "\n"
     ]
    },
    {
     "data": {
      "text/plain": [
       "array([[4775,    0],\n",
       "       [  10,  215]], dtype=int64)"
      ]
     },
     "execution_count": 15,
     "metadata": {},
     "output_type": "execute_result"
    }
   ],
   "source": [
    "from sklearn.metrics import confusion_matrix\n",
    "\n",
    "# Rows: represent true labels\n",
    "# Columns: represent predicted labels\n",
    "print(\"[True Negative,   False Positive]\\n[False Negative,  True Positive]\\n\")\n",
    "C = confusion_matrix(y_train_3, y_train_pred)\n",
    "C"
   ]
  },
  {
   "cell_type": "markdown",
   "metadata": {},
   "source": [
    "![스크린샷 2021-01-26 오전 11.14.18.png](data:image/png;base64,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)"
   ]
  },
  {
   "cell_type": "code",
   "execution_count": 16,
   "metadata": {},
   "outputs": [
    {
     "data": {
      "text/plain": [
       "1.0"
      ]
     },
     "execution_count": 16,
     "metadata": {},
     "output_type": "execute_result"
    }
   ],
   "source": [
    "from sklearn.metrics import precision_score, recall_score\n",
    "\n",
    "precision_score(y_train_3, y_train_pred)"
   ]
  },
  {
   "cell_type": "code",
   "execution_count": 17,
   "metadata": {},
   "outputs": [
    {
     "data": {
      "text/plain": [
       "1.0"
      ]
     },
     "execution_count": 17,
     "metadata": {},
     "output_type": "execute_result"
    }
   ],
   "source": [
    "# Precision = TP/(TP+FP)\n",
    "C[1][1] / (C[0][1] + C[1][1])"
   ]
  },
  {
   "cell_type": "markdown",
   "metadata": {},
   "source": [
    "![스크린샷 2021-01-26 오전 11.14.23.png](data:image/png;base64,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)"
   ]
  },
  {
   "cell_type": "code",
   "execution_count": 18,
   "metadata": {},
   "outputs": [
    {
     "data": {
      "text/plain": [
       "0.9555555555555556"
      ]
     },
     "execution_count": 18,
     "metadata": {},
     "output_type": "execute_result"
    }
   ],
   "source": [
    "recall_score(y_train_3, y_train_pred)"
   ]
  },
  {
   "cell_type": "code",
   "execution_count": 19,
   "metadata": {},
   "outputs": [
    {
     "data": {
      "text/plain": [
       "0.9555555555555556"
      ]
     },
     "execution_count": 19,
     "metadata": {},
     "output_type": "execute_result"
    }
   ],
   "source": [
    "# Recall = TP/(TP+FN)\n",
    "C[1][1] / (C[1][0] + C[1][1])"
   ]
  },
  {
   "cell_type": "markdown",
   "metadata": {},
   "source": [
    "![스크린샷 2021-01-26 오전 11.15.14.png](data:image/png;base64,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)"
   ]
  },
  {
   "cell_type": "code",
   "execution_count": 20,
   "metadata": {},
   "outputs": [
    {
     "data": {
      "text/plain": [
       "0.9772727272727273"
      ]
     },
     "execution_count": 20,
     "metadata": {},
     "output_type": "execute_result"
    }
   ],
   "source": [
    "from sklearn.metrics import f1_score\n",
    "\n",
    "f1_score(y_train_3, y_train_pred)"
   ]
  },
  {
   "cell_type": "code",
   "execution_count": 21,
   "metadata": {},
   "outputs": [
    {
     "data": {
      "image/png": "[encoded data removed]",
      "text/plain": [
       "<Figure size 576x432 with 1 Axes>"
      ]
     },
     "metadata": {
      "needs_background": "light"
     },
     "output_type": "display_data"
    }
   ],
   "source": [
    "# precision, recall의 trade-off\n",
    "from sklearn.metrics import precision_recall_curve\n",
    "from sklearn.model_selection import cross_val_score, cross_val_predict\n",
    "\n",
    "y_scores = cross_val_predict(svc, X_train, y_train_3, cv=3, method=\"decision_function\")\n",
    "precisions, recalls, thresholds = precision_recall_curve(y_train_3, y_scores)\n",
    "\n",
    "def plot_precision_vs_recall(precisions, recalls):\n",
    "    plt.plot(recalls, precisions, \"b-\", linewidth=2)\n",
    "    plt.xlabel(\"Recall\", fontsize=16)\n",
    "    plt.ylabel(\"Precision\", fontsize=16)\n",
    "    plt.axis([0, 1, 0, 1])\n",
    "    plt.grid(True)\n",
    "\n",
    "plt.figure(figsize=(8, 6))\n",
    "plot_precision_vs_recall(precisions, recalls)\n",
    "plt.show()"
   ]
  },
  {
   "cell_type": "code",
   "execution_count": 22,
   "metadata": {},
   "outputs": [
    {
     "data": {
      "image/png": "[encoded data removed]",
      "text/plain": [
       "<Figure size 576x432 with 1 Axes>"
      ]
     },
     "metadata": {
      "needs_background": "light"
     },
     "output_type": "display_data"
    }
   ],
   "source": [
    "from sklearn.metrics import roc_curve\n",
    "\n",
    "# TPR = recall\n",
    "# FPR = FP/(FP+TN) = Fall-Out\n",
    "fpr, tpr, thresholds = roc_curve(y_train_3, y_scores)\n",
    "\n",
    "def plot_roc_curve(fpr, tpr, label=None):\n",
    "    plt.plot(fpr, tpr, linewidth=2, label=label)\n",
    "    plt.plot([0, 1], [0, 1], 'k--') # dashed diagonal\n",
    "    plt.axis([-0.05, 1, 0, 1.05])\n",
    "    plt.xlabel('False Positive Rate (Fall-Out)', fontsize=16)\n",
    "    plt.ylabel('True Positive Rate (Recall)', fontsize=16)\n",
    "    plt.grid(True)\n",
    "\n",
    "plt.figure(figsize=(8, 6))\n",
    "plot_roc_curve(fpr, tpr)\n",
    "plt.show()"
   ]
  },
  {
   "cell_type": "code",
   "execution_count": 23,
   "metadata": {},
   "outputs": [
    {
     "data": {
      "text/plain": [
       "0.9998873763816173"
      ]
     },
     "execution_count": 23,
     "metadata": {},
     "output_type": "execute_result"
    }
   ],
   "source": [
    "from sklearn.metrics import roc_auc_score\n",
    "\n",
    "roc_auc_score(y_train_3, y_scores)"
   ]
  },
  {
   "cell_type": "markdown",
   "metadata": {},
   "source": [
    "## Regression"
   ]
  },
  {
   "cell_type": "code",
   "execution_count": 24,
   "metadata": {},
   "outputs": [],
   "source": [
    "X = 2 * np.random.rand(100, 1)\n",
    "y = 4 + 3 * X + np.random.randn(100, 1)"
   ]
  },
  {
   "cell_type": "code",
   "execution_count": 25,
   "metadata": {},
   "outputs": [
    {
     "data": {
      "image/png": "[encoded data removed]",
      "text/plain": [
       "<Figure size 432x288 with 1 Axes>"
      ]
     },
     "metadata": {
      "needs_background": "light"
     },
     "output_type": "display_data"
    }
   ],
   "source": [
    "plt.plot(X, y, \"b.\")\n",
    "plt.xlabel(\"$x_1$\", fontsize=18)\n",
    "plt.ylabel(\"$y$\", rotation=0, fontsize=18)\n",
    "plt.axis([0, 2, 0, 15])\n",
    "plt.show()"
   ]
  },
  {
   "cell_type": "code",
   "execution_count": 26,
   "metadata": {},
   "outputs": [
    {
     "data": {
      "text/plain": [
       "LinearRegression()"
      ]
     },
     "execution_count": 26,
     "metadata": {},
     "output_type": "execute_result"
    }
   ],
   "source": [
    "from sklearn.linear_model import LinearRegression\n",
    "\n",
    "lin_reg = LinearRegression()\n",
    "lin_reg.fit(X, y)"
   ]
  },
  {
   "cell_type": "code",
   "execution_count": 27,
   "metadata": {},
   "outputs": [
    {
     "data": {
      "text/plain": [
       "(array([3.9065364]), array([[3.25635988]]))"
      ]
     },
     "execution_count": 27,
     "metadata": {},
     "output_type": "execute_result"
    }
   ],
   "source": [
    "lin_reg.intercept_, lin_reg.coef_"
   ]
  },
  {
   "cell_type": "code",
   "execution_count": 28,
   "metadata": {},
   "outputs": [],
   "source": [
    "X_new = np.array([[0], [2]])"
   ]
  },
  {
   "cell_type": "code",
   "execution_count": 29,
   "metadata": {},
   "outputs": [
    {
     "data": {
      "text/plain": [
       "array([[0],\n",
       "       [2]])"
      ]
     },
     "execution_count": 29,
     "metadata": {},
     "output_type": "execute_result"
    }
   ],
   "source": [
    "X_new"
   ]
  },
  {
   "cell_type": "code",
   "execution_count": 30,
   "metadata": {},
   "outputs": [],
   "source": [
    "y_predict = lin_reg.predict(X_new)"
   ]
  },
  {
   "cell_type": "code",
   "execution_count": 31,
   "metadata": {},
   "outputs": [
    {
     "data": {
      "text/plain": [
       "array([[ 3.9065364 ],\n",
       "       [10.41925615]])"
      ]
     },
     "execution_count": 31,
     "metadata": {},
     "output_type": "execute_result"
    }
   ],
   "source": [
    "y_predict"
   ]
  },
  {
   "cell_type": "code",
   "execution_count": 32,
   "metadata": {},
   "outputs": [
    {
     "data": {
      "image/png": "[encoded data removed]",
      "text/plain": [
       "<Figure size 432x288 with 1 Axes>"
      ]
     },
     "metadata": {
      "needs_background": "light"
     },
     "output_type": "display_data"
    }
   ],
   "source": [
    "plt.plot(X_new, y_predict, \"r-\", label=\"linear\")\n",
    "plt.plot(X, y, \"y.\")\n",
    "plt.axis([0, 2, 0, 15])\n",
    "plt.show()"
   ]
  },
  {
   "cell_type": "markdown",
   "metadata": {},
   "source": [
    "## Lasso"
   ]
  },
  {
   "cell_type": "code",
   "execution_count": 33,
   "metadata": {},
   "outputs": [
    {
     "data": {
      "text/plain": [
       "Lasso(alpha=0.1)"
      ]
     },
     "execution_count": 33,
     "metadata": {},
     "output_type": "execute_result"
    }
   ],
   "source": [
    "from sklearn.linear_model import Lasso\n",
    "\n",
    "lasso_reg = Lasso(alpha=0.1)\n",
    "lasso_reg.fit(X, y)"
   ]
  },
  {
   "cell_type": "code",
   "execution_count": 34,
   "metadata": {},
   "outputs": [],
   "source": [
    "y_predict_lasso = lasso_reg.predict(X_new)"
   ]
  },
  {
   "cell_type": "code",
   "execution_count": 35,
   "metadata": {},
   "outputs": [
    {
     "data": {
      "image/png": "[encoded data removed]",
      "text/plain": [
       "<Figure size 432x288 with 1 Axes>"
      ]
     },
     "metadata": {
      "needs_background": "light"
     },
     "output_type": "display_data"
    }
   ],
   "source": [
    "plt.plot(X_new, y_predict, \"r-\", label=\"linear\")\n",
    "plt.plot(X_new, y_predict_lasso, \"g-\", label=\"lasso\")\n",
    "plt.plot(X, y, \"y.\")\n",
    "plt.axis([0, 2, 0, 15])\n",
    "plt.legend()\n",
    "plt.show()"
   ]
  },
  {
   "cell_type": "markdown",
   "metadata": {},
   "source": [
    "## Ridge"
   ]
  },
  {
   "cell_type": "code",
   "execution_count": 36,
   "metadata": {},
   "outputs": [],
   "source": [
    "from sklearn.linear_model import Ridge\n",
    "\n",
    "ridge_reg = Ridge(alpha=1.0)\n",
    "ridge_reg.fit(X, y)\n",
    "y_predict_ridge = ridge_reg.predict(X_new)"
   ]
  },
  {
   "cell_type": "code",
   "execution_count": 37,
   "metadata": {},
   "outputs": [
    {
     "data": {
      "image/png": "[encoded data removed]",
      "text/plain": [
       "<Figure size 432x288 with 1 Axes>"
      ]
     },
     "metadata": {
      "needs_background": "light"
     },
     "output_type": "display_data"
    }
   ],
   "source": [
    "plt.plot(X_new, y_predict, \"r-\", label=\"linear\")\n",
    "plt.plot(X_new, y_predict_lasso, \"g-\", label=\"lasso\")\n",
    "plt.plot(X_new, y_predict_ridge, \"b-\", label=\"ridge\")\n",
    "plt.plot(X, y, \"y.\")\n",
    "plt.axis([0, 2, 0, 15])\n",
    "plt.legend()\n",
    "plt.show()"
   ]
  },
  {
   "cell_type": "markdown",
   "metadata": {},
   "source": [
    "## Multiple Linear Regression"
   ]
  },
  {
   "cell_type": "markdown",
   "metadata": {},
   "source": [
    "출처: https://www.kaggle.com/goyalshalini93/car-data"
   ]
  },
  {
   "cell_type": "code",
   "execution_count": 38,
   "metadata": {},
   "outputs": [
    {
     "data": {
      "text/html": [
       "<div>\n",
       "<style scoped>\n",
       "    .dataframe tbody tr th:only-of-type {\n",
       "        vertical-align: middle;\n",
       "    }\n",
       "\n",
       "    .dataframe tbody tr th {\n",
       "        vertical-align: top;\n",
       "    }\n",
       "\n",
       "    .dataframe thead th {\n",
       "        text-align: right;\n",
       "    }\n",
       "</style>\n",
       "<table border=\"1\" class=\"dataframe\">\n",
       "  <thead>\n",
       "    <tr style=\"text-align: right;\">\n",
       "      <th></th>\n",
       "      <th>car_ID</th>\n",
       "      <th>symboling</th>\n",
       "      <th>CarName</th>\n",
       "      <th>fueltype</th>\n",
       "      <th>aspiration</th>\n",
       "      <th>doornumber</th>\n",
       "      <th>carbody</th>\n",
       "      <th>drivewheel</th>\n",
       "      <th>enginelocation</th>\n",
       "      <th>wheelbase</th>\n",
       "      <th>...</th>\n",
       "      <th>enginesize</th>\n",
       "      <th>fuelsystem</th>\n",
       "      <th>boreratio</th>\n",
       "      <th>stroke</th>\n",
       "      <th>compressionratio</th>\n",
       "      <th>horsepower</th>\n",
       "      <th>peakrpm</th>\n",
       "      <th>citympg</th>\n",
       "      <th>highwaympg</th>\n",
       "      <th>price</th>\n",
       "    </tr>\n",
       "  </thead>\n",
       "  <tbody>\n",
       "    <tr>\n",
       "      <th>0</th>\n",
       "      <td>1</td>\n",
       "      <td>3</td>\n",
       "      <td>alfa-romero giulia</td>\n",
       "      <td>gas</td>\n",
       "      <td>std</td>\n",
       "      <td>two</td>\n",
       "      <td>convertible</td>\n",
       "      <td>rwd</td>\n",
       "      <td>front</td>\n",
       "      <td>88.6</td>\n",
       "      <td>...</td>\n",
       "      <td>130</td>\n",
       "      <td>mpfi</td>\n",
       "      <td>3.47</td>\n",
       "      <td>2.68</td>\n",
       "      <td>9.0</td>\n",
       "      <td>111</td>\n",
       "      <td>5000</td>\n",
       "      <td>21</td>\n",
       "      <td>27</td>\n",
       "      <td>13495.0</td>\n",
       "    </tr>\n",
       "    <tr>\n",
       "      <th>1</th>\n",
       "      <td>2</td>\n",
       "      <td>3</td>\n",
       "      <td>alfa-romero stelvio</td>\n",
       "      <td>gas</td>\n",
       "      <td>std</td>\n",
       "      <td>two</td>\n",
       "      <td>convertible</td>\n",
       "      <td>rwd</td>\n",
       "      <td>front</td>\n",
       "      <td>88.6</td>\n",
       "      <td>...</td>\n",
       "      <td>130</td>\n",
       "      <td>mpfi</td>\n",
       "      <td>3.47</td>\n",
       "      <td>2.68</td>\n",
       "      <td>9.0</td>\n",
       "      <td>111</td>\n",
       "      <td>5000</td>\n",
       "      <td>21</td>\n",
       "      <td>27</td>\n",
       "      <td>16500.0</td>\n",
       "    </tr>\n",
       "    <tr>\n",
       "      <th>2</th>\n",
       "      <td>3</td>\n",
       "      <td>1</td>\n",
       "      <td>alfa-romero Quadrifoglio</td>\n",
       "      <td>gas</td>\n",
       "      <td>std</td>\n",
       "      <td>two</td>\n",
       "      <td>hatchback</td>\n",
       "      <td>rwd</td>\n",
       "      <td>front</td>\n",
       "      <td>94.5</td>\n",
       "      <td>...</td>\n",
       "      <td>152</td>\n",
       "      <td>mpfi</td>\n",
       "      <td>2.68</td>\n",
       "      <td>3.47</td>\n",
       "      <td>9.0</td>\n",
       "      <td>154</td>\n",
       "      <td>5000</td>\n",
       "      <td>19</td>\n",
       "      <td>26</td>\n",
       "      <td>16500.0</td>\n",
       "    </tr>\n",
       "    <tr>\n",
       "      <th>3</th>\n",
       "      <td>4</td>\n",
       "      <td>2</td>\n",
       "      <td>audi 100 ls</td>\n",
       "      <td>gas</td>\n",
       "      <td>std</td>\n",
       "      <td>four</td>\n",
       "      <td>sedan</td>\n",
       "      <td>fwd</td>\n",
       "      <td>front</td>\n",
       "      <td>99.8</td>\n",
       "      <td>...</td>\n",
       "      <td>109</td>\n",
       "      <td>mpfi</td>\n",
       "      <td>3.19</td>\n",
       "      <td>3.40</td>\n",
       "      <td>10.0</td>\n",
       "      <td>102</td>\n",
       "      <td>5500</td>\n",
       "      <td>24</td>\n",
       "      <td>30</td>\n",
       "      <td>13950.0</td>\n",
       "    </tr>\n",
       "    <tr>\n",
       "      <th>4</th>\n",
       "      <td>5</td>\n",
       "      <td>2</td>\n",
       "      <td>audi 100ls</td>\n",
       "      <td>gas</td>\n",
       "      <td>std</td>\n",
       "      <td>four</td>\n",
       "      <td>sedan</td>\n",
       "      <td>4wd</td>\n",
       "      <td>front</td>\n",
       "      <td>99.4</td>\n",
       "      <td>...</td>\n",
       "      <td>136</td>\n",
       "      <td>mpfi</td>\n",
       "      <td>3.19</td>\n",
       "      <td>3.40</td>\n",
       "      <td>8.0</td>\n",
       "      <td>115</td>\n",
       "      <td>5500</td>\n",
       "      <td>18</td>\n",
       "      <td>22</td>\n",
       "      <td>17450.0</td>\n",
       "    </tr>\n",
       "  </tbody>\n",
       "</table>\n",
       "<p>5 rows × 26 columns</p>\n",
       "</div>"
      ],
      "text/plain": [
       "   car_ID  symboling                   CarName fueltype aspiration doornumber  \\\n",
       "0       1          3        alfa-romero giulia      gas        std        two   \n",
       "1       2          3       alfa-romero stelvio      gas        std        two   \n",
       "2       3          1  alfa-romero Quadrifoglio      gas        std        two   \n",
       "3       4          2               audi 100 ls      gas        std       four   \n",
       "4       5          2                audi 100ls      gas        std       four   \n",
       "\n",
       "       carbody drivewheel enginelocation  wheelbase  ...  enginesize  \\\n",
       "0  convertible        rwd          front       88.6  ...         130   \n",
       "1  convertible        rwd          front       88.6  ...         130   \n",
       "2    hatchback        rwd          front       94.5  ...         152   \n",
       "3        sedan        fwd          front       99.8  ...         109   \n",
       "4        sedan        4wd          front       99.4  ...         136   \n",
       "\n",
       "   fuelsystem  boreratio  stroke compressionratio horsepower  peakrpm citympg  \\\n",
       "0        mpfi       3.47    2.68              9.0        111     5000      21   \n",
       "1        mpfi       3.47    2.68              9.0        111     5000      21   \n",
       "2        mpfi       2.68    3.47              9.0        154     5000      19   \n",
       "3        mpfi       3.19    3.40             10.0        102     5500      24   \n",
       "4        mpfi       3.19    3.40              8.0        115     5500      18   \n",
       "\n",
       "   highwaympg    price  \n",
       "0          27  13495.0  \n",
       "1          27  16500.0  \n",
       "2          26  16500.0  \n",
       "3          30  13950.0  \n",
       "4          22  17450.0  \n",
       "\n",
       "[5 rows x 26 columns]"
      ]
     },
     "execution_count": 38,
     "metadata": {},
     "output_type": "execute_result"
    }
   ],
   "source": [
    "car = pd.read_csv(\"./CarPrice.csv\")\n",
    "car.head()"
   ]
  },
  {
   "cell_type": "code",
   "execution_count": 39,
   "metadata": {},
   "outputs": [
    {
     "name": "stdout",
     "output_type": "stream",
     "text": [
      "<class 'pandas.core.frame.DataFrame'>\n",
      "RangeIndex: 205 entries, 0 to 204\n",
      "Data columns (total 26 columns):\n",
      "car_ID              205 non-null int64\n",
      "symboling           205 non-null int64\n",
      "CarName             205 non-null object\n",
      "fueltype            205 non-null object\n",
      "aspiration          205 non-null object\n",
      "doornumber          205 non-null object\n",
      "carbody             205 non-null object\n",
      "drivewheel          205 non-null object\n",
      "enginelocation      205 non-null object\n",
      "wheelbase           205 non-null float64\n",
      "carlength           205 non-null float64\n",
      "carwidth            205 non-null float64\n",
      "carheight           205 non-null float64\n",
      "curbweight          205 non-null int64\n",
      "enginetype          205 non-null object\n",
      "cylindernumber      205 non-null object\n",
      "enginesize          205 non-null int64\n",
      "fuelsystem          205 non-null object\n",
      "boreratio           205 non-null float64\n",
      "stroke              205 non-null float64\n",
      "compressionratio    205 non-null float64\n",
      "horsepower          205 non-null int64\n",
      "peakrpm             205 non-null int64\n",
      "citympg             205 non-null int64\n",
      "highwaympg          205 non-null int64\n",
      "price               205 non-null float64\n",
      "dtypes: float64(8), int64(8), object(10)\n",
      "memory usage: 41.7+ KB\n"
     ]
    }
   ],
   "source": [
    "car.info()"
   ]
  },
  {
   "cell_type": "code",
   "execution_count": 40,
   "metadata": {},
   "outputs": [],
   "source": [
    "car = car[['carlength','carwidth','boreratio','price']]"
   ]
  },
  {
   "cell_type": "code",
   "execution_count": 41,
   "metadata": {},
   "outputs": [],
   "source": [
    "from sklearn.model_selection import train_test_split\n",
    "train_set, test_set = train_test_split(car, test_size=0.2, random_state=42)"
   ]
  },
  {
   "cell_type": "code",
   "execution_count": 42,
   "metadata": {},
   "outputs": [],
   "source": [
    "X_train, y_train = train_set[['carlength','carwidth','boreratio']], train_set['price']\n",
    "X_train = np.array(X_train)\n",
    "y_train = np.array(y_train)"
   ]
  },
  {
   "cell_type": "code",
   "execution_count": 43,
   "metadata": {},
   "outputs": [
    {
     "data": {
      "text/plain": [
       "LinearRegression()"
      ]
     },
     "execution_count": 43,
     "metadata": {},
     "output_type": "execute_result"
    }
   ],
   "source": [
    "from sklearn.linear_model import LinearRegression\n",
    "\n",
    "lin_reg = LinearRegression()\n",
    "lin_reg.fit(X_train, y_train)"
   ]
  },
  {
   "cell_type": "code",
   "execution_count": 44,
   "metadata": {},
   "outputs": [],
   "source": [
    "X_test, y_test = test_set[['carlength','carwidth','boreratio']], test_set['price']\n",
    "X_test = np.array(X_test)\n",
    "y_test = np.array(y_test)"
   ]
  },
  {
   "cell_type": "code",
   "execution_count": 45,
   "metadata": {},
   "outputs": [
    {
     "data": {
      "text/plain": [
       "array([17536.92681088, 16537.03549167, 11672.22893298, 16120.25468234,\n",
       "       24814.26974207,  7324.12455785,  9373.3433524 ,  8897.68934473,\n",
       "       13838.23606845, 10383.90652953, 14750.30489734,  8082.11574512,\n",
       "       16246.84975018, 14465.27238242, 29645.86330848,  6110.08261885,\n",
       "       -2428.21598614, 15568.73446757, 12204.15608976, 13799.03465555,\n",
       "       14998.42179566, 15338.17247301,  7240.49487702,  5567.91671943,\n",
       "        6036.98855593, 19858.11098272, 14347.94654177, 19141.72986635,\n",
       "        7444.34222405, 19141.72986635, 24814.26974207,  6036.98855593,\n",
       "        6397.55964671, 21685.35225318,  6393.72906168, 24725.41320618,\n",
       "       13799.03465555, 12655.10794714,  5917.9931462 , 15628.19121853,\n",
       "       13838.23606845])"
      ]
     },
     "execution_count": 45,
     "metadata": {},
     "output_type": "execute_result"
    }
   ],
   "source": [
    "lin_reg.predict(X_test)"
   ]
  },
  {
   "cell_type": "code",
   "execution_count": 46,
   "metadata": {},
   "outputs": [
    {
     "data": {
      "text/plain": [
       "5329.013814800543"
      ]
     },
     "execution_count": 46,
     "metadata": {},
     "output_type": "execute_result"
    }
   ],
   "source": [
    "from sklearn.metrics import mean_squared_error\n",
    "\n",
    "y_pred = lin_reg.predict(X_test)\n",
    "y_true = y_test\n",
    "mse = mean_squared_error(y_true, y_pred)\n",
    "rmse = np.sqrt(mse)\n",
    "rmse"
   ]
  },
  {
   "cell_type": "code",
   "execution_count": 47,
   "metadata": {},
   "outputs": [
    {
     "data": {
      "text/plain": [
       "3486.2076498228935"
      ]
     },
     "execution_count": 47,
     "metadata": {},
     "output_type": "execute_result"
    }
   ],
   "source": [
    "from sklearn.metrics import mean_absolute_error\n",
    "\n",
    "y_pred = lin_reg.predict(X_test)\n",
    "y_true = y_test\n",
    "mae = mean_absolute_error(y_true, y_pred)\n",
    "mae"
   ]
  },
  {
   "cell_type": "code",
   "execution_count": null,
   "metadata": {},
   "outputs": [],
   "source": []
  }
 ],
 "metadata": {
  "kernelspec": {
   "display_name": "Python 3",
   "language": "python",
   "name": "python3"
  },
  "language_info": {
   "codemirror_mode": {
    "name": "ipython",
    "version": 3
   },
   "file_extension": ".py",
   "mimetype": "text/x-python",
   "name": "python",
   "nbconvert_exporter": "python",
   "pygments_lexer": "ipython3",
   "version": "3.7.3"
  }
 },
 "nbformat": 4,
 "nbformat_minor": 4
}
