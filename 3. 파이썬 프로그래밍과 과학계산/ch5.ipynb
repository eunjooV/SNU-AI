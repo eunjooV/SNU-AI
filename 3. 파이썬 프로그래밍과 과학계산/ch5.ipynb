{
 "cells": [
  {
   "cell_type": "code",
   "execution_count": 2,
   "metadata": {},
   "outputs": [],
   "source": [
    "import numpy as np"
   ]
  },
  {
   "cell_type": "markdown",
   "metadata": {
    "id": "3nSNsY6ULlMv"
   },
   "source": [
    "## 1. 0 부터 8까지의 값을 순차적으로 갖는 3x3 행렬을 생성하시오"
   ]
  },
  {
   "cell_type": "code",
   "execution_count": 3,
   "metadata": {
    "colab": {
     "base_uri": "https://localhost:8080/"
    },
    "executionInfo": {
     "elapsed": 904,
     "status": "ok",
     "timestamp": 1609508473644,
     "user": {
      "displayName": "Namhyoung Kim",
      "photoUrl": "",
      "userId": "10452528424857445283"
     },
     "user_tz": -540
    },
    "id": "gp1a-QcPJUiV",
    "outputId": "18f2632a-c336-4e6c-cc0e-1b4b4c899ff0"
   },
   "outputs": [
    {
     "name": "stdout",
     "output_type": "stream",
     "text": [
      "[[0 1 2]\n",
      " [3 4 5]\n",
      " [6 7 8]]\n"
     ]
    }
   ],
   "source": [
    "z = np.matrix([[0,1,2],[3,4,5],[6,7,8]])\n",
    "print(z)"
   ]
  },
  {
   "cell_type": "markdown",
   "metadata": {
    "id": "05x3xuXLLtVT"
   },
   "source": [
    "## 2.  i번째 열은 원소값으로 모두 (i-1)을 갖는 5x5 행렬을 생성하시오\n"
   ]
  },
  {
   "cell_type": "code",
   "execution_count": 20,
   "metadata": {
    "colab": {
     "base_uri": "https://localhost:8080/"
    },
    "executionInfo": {
     "elapsed": 967,
     "status": "ok",
     "timestamp": 1609508009628,
     "user": {
      "displayName": "Namhyoung Kim",
      "photoUrl": "",
      "userId": "10452528424857445283"
     },
     "user_tz": -540
    },
    "id": "RBSxTgt2JX-V",
    "outputId": "8c3af6be-71b9-4703-8db1-0ea2bb61252d"
   },
   "outputs": [
    {
     "data": {
      "text/plain": [
       "array([[0., 1., 2., 3., 4.],\n",
       "       [0., 1., 2., 3., 4.],\n",
       "       [0., 1., 2., 3., 4.],\n",
       "       [0., 1., 2., 3., 4.],\n",
       "       [0., 1., 2., 3., 4.]])"
      ]
     },
     "execution_count": 20,
     "metadata": {},
     "output_type": "execute_result"
    }
   ],
   "source": [
    "z = np.zeros((5,5))\n",
    "z += np.arange(5).reshape(5)\n",
    "z"
   ]
  },
  {
   "cell_type": "code",
   "execution_count": 21,
   "metadata": {},
   "outputs": [
    {
     "name": "stdout",
     "output_type": "stream",
     "text": [
      "[[0. 1. 2. 3. 4.]\n",
      " [0. 1. 2. 3. 4.]\n",
      " [0. 1. 2. 3. 4.]\n",
      " [0. 1. 2. 3. 4.]\n",
      " [0. 1. 2. 3. 4.]]\n"
     ]
    }
   ],
   "source": [
    "print(z)"
   ]
  },
  {
   "cell_type": "markdown",
   "metadata": {
    "id": "Id8b4Ry0LuqQ"
   },
   "source": [
    "## 3. integer(32 bit) ndarray를 float(32 bit) ndarray로 바꾸려면 어떻게 해야하는가?"
   ]
  },
  {
   "cell_type": "code",
   "execution_count": 22,
   "metadata": {
    "colab": {
     "base_uri": "https://localhost:8080/"
    },
    "executionInfo": {
     "elapsed": 882,
     "status": "ok",
     "timestamp": 1609508107723,
     "user": {
      "displayName": "Namhyoung Kim",
      "photoUrl": "",
      "userId": "10452528424857445283"
     },
     "user_tz": -540
    },
    "id": "T44n3GT_JYBn",
    "outputId": "464efa05-3e09-4779-d9ea-ea03b6c10cc7"
   },
   "outputs": [],
   "source": [
    "z = np.arange(10, dtype=np.int32)"
   ]
  },
  {
   "cell_type": "code",
   "execution_count": 24,
   "metadata": {},
   "outputs": [
    {
     "name": "stdout",
     "output_type": "stream",
     "text": [
      "[0. 1. 2. 3. 4. 5. 6. 7. 8. 9.]\n"
     ]
    },
    {
     "data": {
      "text/plain": [
       "array([0., 1., 2., 3., 4., 5., 6., 7., 8., 9.], dtype=float32)"
      ]
     },
     "execution_count": 24,
     "metadata": {},
     "output_type": "execute_result"
    }
   ],
   "source": [
    "z_new = np.array(z, dtype=np.float32)\n",
    "print(z_new)\n",
    "z_new"
   ]
  },
  {
   "cell_type": "markdown",
   "metadata": {},
   "source": [
    "## 4. quest.pickle 파일에는 5점 만점으로 된 설문조사 결과가 배열로 저장되어 있다. 이 파일을 읽어와서 설문조사 결과 5점 초과하는 값이 있는지 살펴보고 있을 경우 모두 5로 변경하여라. "
   ]
  },
  {
   "cell_type": "code",
   "execution_count": 39,
   "metadata": {},
   "outputs": [],
   "source": [
    "quest = np.load('quest.pickle', allow_pickle=True)"
   ]
  },
  {
   "cell_type": "code",
   "execution_count": 44,
   "metadata": {},
   "outputs": [
    {
     "data": {
      "text/plain": [
       "array([[1, 2, 1, 2, 2],\n",
       "       [1, 3, 2, 3, 2],\n",
       "       [1, 4, 3, 3, 3],\n",
       "       [2, 5, 4, 4, 4],\n",
       "       [2, 5, 6, 2, 5],\n",
       "       [3, 6, 4, 2, 5],\n",
       "       [3, 5, 4, 1, 6],\n",
       "       [3, 5, 5, 1, 3]], dtype=int64)"
      ]
     },
     "execution_count": 44,
     "metadata": {},
     "output_type": "execute_result"
    }
   ],
   "source": [
    "quest"
   ]
  },
  {
   "cell_type": "code",
   "execution_count": 45,
   "metadata": {},
   "outputs": [],
   "source": [
    "quest_5up_list = np.where(quest>5)\n",
    "quest_5up_value = np.where(quest>5,5,quest)\n",
    "quest_new = quest_5up_value"
   ]
  },
  {
   "cell_type": "code",
   "execution_count": 46,
   "metadata": {},
   "outputs": [
    {
     "name": "stdout",
     "output_type": "stream",
     "text": [
      "[[1 2 1 2 2]\n",
      " [1 3 2 3 2]\n",
      " [1 4 3 3 3]\n",
      " [2 5 4 4 4]\n",
      " [2 5 5 2 5]\n",
      " [3 5 4 2 5]\n",
      " [3 5 4 1 5]\n",
      " [3 5 5 1 3]]\n"
     ]
    }
   ],
   "source": [
    "print(quest_new)"
   ]
  },
  {
   "cell_type": "code",
   "execution_count": null,
   "metadata": {},
   "outputs": [],
   "source": []
  }
 ],
 "metadata": {
  "colab": {
   "authorship_tag": "ABX9TyMHn63Y2APmlcxNVfD9tdvg",
   "name": "ch5.ipynb",
   "provenance": []
  },
  "kernelspec": {
   "display_name": "Python 3",
   "language": "python",
   "name": "python3"
  },
  "language_info": {
   "codemirror_mode": {
    "name": "ipython",
    "version": 3
   },
   "file_extension": ".py",
   "mimetype": "text/x-python",
   "name": "python",
   "nbconvert_exporter": "python",
   "pygments_lexer": "ipython3",
   "version": "3.7.3"
  }
 },
 "nbformat": 4,
 "nbformat_minor": 1
}
