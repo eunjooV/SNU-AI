{
 "cells": [
  {
   "cell_type": "markdown",
   "metadata": {},
   "source": [
    "## 1 DataFrame을 활용해 남성과 여성 각각 Age가 30이상인 사람들의 평균 Height을 구해보자."
   ]
  },
  {
   "cell_type": "code",
   "execution_count": 1,
   "metadata": {
    "executionInfo": {
     "elapsed": 768,
     "status": "ok",
     "timestamp": 1610294979739,
     "user": {
      "displayName": "Namhyoung Kim",
      "photoUrl": "",
      "userId": "10452528424857445283"
     },
     "user_tz": -540
    },
    "id": "fmJjU4N9UmV5"
   },
   "outputs": [],
   "source": [
    "import pandas as pd\n",
    "dataframe = pd.DataFrame({\"Age\" : [37, 20, 30, 45, 25, 31, 41],\n",
    "                           \"Height\": [156, 180, 170, 160, 150, 140, 181],\n",
    "                           \"Sex\": [\"f\", \"m\", \"m\", \"f\", \"f\", \"f\", \"m\"]\n",
    "                           })"
   ]
  },
  {
   "cell_type": "code",
   "execution_count": 2,
   "metadata": {
    "colab": {
     "base_uri": "https://localhost:8080/"
    },
    "executionInfo": {
     "elapsed": 816,
     "status": "ok",
     "timestamp": 1610295211096,
     "user": {
      "displayName": "Namhyoung Kim",
      "photoUrl": "",
      "userId": "10452528424857445283"
     },
     "user_tz": -540
    },
    "id": "u7lKAi7fVm2f",
    "outputId": "21fa257f-2372-4f9b-b353-58ec691a57f9"
   },
   "outputs": [
    {
     "name": "stdout",
     "output_type": "stream",
     "text": [
      "남성 평균 키, 175.5\n"
     ]
    }
   ],
   "source": [
    "print(\"남성 평균 키,\", dataframe[(dataframe[\"Sex\"] =='m') & (dataframe['Age']>=30)]['Height'].mean())"
   ]
  },
  {
   "cell_type": "code",
   "execution_count": 3,
   "metadata": {
    "colab": {
     "base_uri": "https://localhost:8080/"
    },
    "executionInfo": {
     "elapsed": 736,
     "status": "ok",
     "timestamp": 1610295222166,
     "user": {
      "displayName": "Namhyoung Kim",
      "photoUrl": "",
      "userId": "10452528424857445283"
     },
     "user_tz": -540
    },
    "id": "8ufXuKiLWt6g",
    "outputId": "e49264c1-91df-44f1-8078-b24d4a1f6c2e"
   },
   "outputs": [
    {
     "name": "stdout",
     "output_type": "stream",
     "text": [
      "여성 평균 키, 152.0\n"
     ]
    }
   ],
   "source": [
    "print(\"여성 평균 키,\", dataframe[(dataframe[\"Sex\"] =='f') & (dataframe['Age']>=30)]['Height'].mean())"
   ]
  },
  {
   "cell_type": "markdown",
   "metadata": {},
   "source": [
    "## 2. 프로듀스 회사의 근무자, 성별, 근무지, 연봉이 기록된 “Produce.xlsx”에서 다음과 같은 질문에 답해보도록 하자!"
   ]
  },
  {
   "cell_type": "code",
   "execution_count": 4,
   "metadata": {
    "colab": {
     "base_uri": "https://localhost:8080/"
    },
    "executionInfo": {
     "elapsed": 906,
     "status": "ok",
     "timestamp": 1610295872572,
     "user": {
      "displayName": "Namhyoung Kim",
      "photoUrl": "",
      "userId": "10452528424857445283"
     },
     "user_tz": -540
    },
    "id": "06MaagKKGMw3",
    "outputId": "1cef58ed-f0b6-4898-a13a-d840fc7701b0"
   },
   "outputs": [
    {
     "name": "stdout",
     "output_type": "stream",
     "text": [
      "        이름 성별     근무지  연봉_만원\n",
      "0     강다니엘  M   SEOUL   5419\n",
      "1      강동호  M  CICAGO   6443\n",
      "2      강미나  F   SEOUL    445\n",
      "3      권현빈  M      LA   1199\n",
      "4      김도연  F  CICAGO   7579\n",
      "5     김사무엘  M   SEOUL    290\n",
      "6      김세정  F  CICAGO   4113\n",
      "7      김소혜  F   SEOUL   1200\n",
      "8      김청하  F   SEOUL   5447\n",
      "9      노태현  M  CICAGO   3126\n",
      "10    라이관린  M      LA   6890\n",
      "11     박우진  M      LA   2371\n",
      "12     박지훈  M   SEOUL   7980\n",
      "13     배진영  M  CICAGO   8399\n",
      "14     옹성우  M   SEOUL   2477\n",
      "15     유연정  F   SEOUL   8474\n",
      "16     임나영  F   SEOUL   6732\n",
      "17     전소미  F      LA   9828\n",
      "18     정채연  F   SEOUL   2208\n",
      "19     주결경  F   SEOUL   7373\n",
      "20     주학년  M  CICAGO   1379\n",
      "21     최유정  F      LA   7137\n",
      "22  타카다 켄타  M      LA   4091\n",
      "23     하성운  M  CICAGO   8721\n"
     ]
    }
   ],
   "source": [
    "data_frame = pd.read_excel(\"Produce.xlsx\", sheet_name=\"Sheet1\")\n",
    "print(data_frame)"
   ]
  },
  {
   "cell_type": "markdown",
   "metadata": {},
   "source": [
    "### # 1) 이름이 김사랑, 성별 F, 근무지 CICAGO, 연봉 6000인 직원을 추가하라"
   ]
  },
  {
   "cell_type": "code",
   "execution_count": 5,
   "metadata": {
    "colab": {
     "base_uri": "https://localhost:8080/"
    },
    "executionInfo": {
     "elapsed": 757,
     "status": "ok",
     "timestamp": 1610295875564,
     "user": {
      "displayName": "Namhyoung Kim",
      "photoUrl": "",
      "userId": "10452528424857445283"
     },
     "user_tz": -540
    },
    "id": "q14nhcfJZCFX",
    "outputId": "b8b3254f-07d2-4e49-89a8-9daaff8c1145"
   },
   "outputs": [
    {
     "name": "stdout",
     "output_type": "stream",
     "text": [
      "        이름 성별     근무지  연봉_만원\n",
      "0     강다니엘  M   SEOUL   5419\n",
      "1      강동호  M  CICAGO   6443\n",
      "2      강미나  F   SEOUL    445\n",
      "3      권현빈  M      LA   1199\n",
      "4      김도연  F  CICAGO   7579\n",
      "5     김사무엘  M   SEOUL    290\n",
      "6      김세정  F  CICAGO   4113\n",
      "7      김소혜  F   SEOUL   1200\n",
      "8      김청하  F   SEOUL   5447\n",
      "9      노태현  M  CICAGO   3126\n",
      "10    라이관린  M      LA   6890\n",
      "11     박우진  M      LA   2371\n",
      "12     박지훈  M   SEOUL   7980\n",
      "13     배진영  M  CICAGO   8399\n",
      "14     옹성우  M   SEOUL   2477\n",
      "15     유연정  F   SEOUL   8474\n",
      "16     임나영  F   SEOUL   6732\n",
      "17     전소미  F      LA   9828\n",
      "18     정채연  F   SEOUL   2208\n",
      "19     주결경  F   SEOUL   7373\n",
      "20     주학년  M  CICAGO   1379\n",
      "21     최유정  F      LA   7137\n",
      "22  타카다 켄타  M      LA   4091\n",
      "23     하성운  M  CICAGO   8721\n",
      "24     김사랑  F  CICAGO   6000\n"
     ]
    }
   ],
   "source": [
    "new = {'이름':'김사랑','성별':'F','근무지':'CICAGO','연봉_만원':6000}\n",
    "data_frame = data_frame.append(new,ignore_index=True)\n",
    "print(data_frame)"
   ]
  },
  {
   "cell_type": "markdown",
   "metadata": {},
   "source": [
    "### 2) 성별이 M이면 1, 성별이 F이면 0인 Sex 열을 추가하고, 성별 열을 제거하라. "
   ]
  },
  {
   "cell_type": "code",
   "execution_count": 6,
   "metadata": {
    "colab": {
     "base_uri": "https://localhost:8080/",
     "height": 822
    },
    "executionInfo": {
     "elapsed": 737,
     "status": "ok",
     "timestamp": 1610296187822,
     "user": {
      "displayName": "Namhyoung Kim",
      "photoUrl": "",
      "userId": "10452528424857445283"
     },
     "user_tz": -540
    },
    "id": "H7lb4Gy9ZTHf",
    "outputId": "2d96c5f3-ef80-4119-dc5c-01d06194506d"
   },
   "outputs": [
    {
     "data": {
      "text/html": [
       "<div>\n",
       "<style scoped>\n",
       "    .dataframe tbody tr th:only-of-type {\n",
       "        vertical-align: middle;\n",
       "    }\n",
       "\n",
       "    .dataframe tbody tr th {\n",
       "        vertical-align: top;\n",
       "    }\n",
       "\n",
       "    .dataframe thead th {\n",
       "        text-align: right;\n",
       "    }\n",
       "</style>\n",
       "<table border=\"1\" class=\"dataframe\">\n",
       "  <thead>\n",
       "    <tr style=\"text-align: right;\">\n",
       "      <th></th>\n",
       "      <th>이름</th>\n",
       "      <th>근무지</th>\n",
       "      <th>연봉_만원</th>\n",
       "      <th>Sex</th>\n",
       "    </tr>\n",
       "  </thead>\n",
       "  <tbody>\n",
       "    <tr>\n",
       "      <th>0</th>\n",
       "      <td>강다니엘</td>\n",
       "      <td>SEOUL</td>\n",
       "      <td>5419</td>\n",
       "      <td>1</td>\n",
       "    </tr>\n",
       "    <tr>\n",
       "      <th>1</th>\n",
       "      <td>강동호</td>\n",
       "      <td>CICAGO</td>\n",
       "      <td>6443</td>\n",
       "      <td>1</td>\n",
       "    </tr>\n",
       "    <tr>\n",
       "      <th>2</th>\n",
       "      <td>강미나</td>\n",
       "      <td>SEOUL</td>\n",
       "      <td>445</td>\n",
       "      <td>0</td>\n",
       "    </tr>\n",
       "    <tr>\n",
       "      <th>3</th>\n",
       "      <td>권현빈</td>\n",
       "      <td>LA</td>\n",
       "      <td>1199</td>\n",
       "      <td>1</td>\n",
       "    </tr>\n",
       "    <tr>\n",
       "      <th>4</th>\n",
       "      <td>김도연</td>\n",
       "      <td>CICAGO</td>\n",
       "      <td>7579</td>\n",
       "      <td>0</td>\n",
       "    </tr>\n",
       "    <tr>\n",
       "      <th>5</th>\n",
       "      <td>김사무엘</td>\n",
       "      <td>SEOUL</td>\n",
       "      <td>290</td>\n",
       "      <td>1</td>\n",
       "    </tr>\n",
       "    <tr>\n",
       "      <th>6</th>\n",
       "      <td>김세정</td>\n",
       "      <td>CICAGO</td>\n",
       "      <td>4113</td>\n",
       "      <td>0</td>\n",
       "    </tr>\n",
       "    <tr>\n",
       "      <th>7</th>\n",
       "      <td>김소혜</td>\n",
       "      <td>SEOUL</td>\n",
       "      <td>1200</td>\n",
       "      <td>0</td>\n",
       "    </tr>\n",
       "    <tr>\n",
       "      <th>8</th>\n",
       "      <td>김청하</td>\n",
       "      <td>SEOUL</td>\n",
       "      <td>5447</td>\n",
       "      <td>0</td>\n",
       "    </tr>\n",
       "    <tr>\n",
       "      <th>9</th>\n",
       "      <td>노태현</td>\n",
       "      <td>CICAGO</td>\n",
       "      <td>3126</td>\n",
       "      <td>1</td>\n",
       "    </tr>\n",
       "    <tr>\n",
       "      <th>10</th>\n",
       "      <td>라이관린</td>\n",
       "      <td>LA</td>\n",
       "      <td>6890</td>\n",
       "      <td>1</td>\n",
       "    </tr>\n",
       "    <tr>\n",
       "      <th>11</th>\n",
       "      <td>박우진</td>\n",
       "      <td>LA</td>\n",
       "      <td>2371</td>\n",
       "      <td>1</td>\n",
       "    </tr>\n",
       "    <tr>\n",
       "      <th>12</th>\n",
       "      <td>박지훈</td>\n",
       "      <td>SEOUL</td>\n",
       "      <td>7980</td>\n",
       "      <td>1</td>\n",
       "    </tr>\n",
       "    <tr>\n",
       "      <th>13</th>\n",
       "      <td>배진영</td>\n",
       "      <td>CICAGO</td>\n",
       "      <td>8399</td>\n",
       "      <td>1</td>\n",
       "    </tr>\n",
       "    <tr>\n",
       "      <th>14</th>\n",
       "      <td>옹성우</td>\n",
       "      <td>SEOUL</td>\n",
       "      <td>2477</td>\n",
       "      <td>1</td>\n",
       "    </tr>\n",
       "    <tr>\n",
       "      <th>15</th>\n",
       "      <td>유연정</td>\n",
       "      <td>SEOUL</td>\n",
       "      <td>8474</td>\n",
       "      <td>0</td>\n",
       "    </tr>\n",
       "    <tr>\n",
       "      <th>16</th>\n",
       "      <td>임나영</td>\n",
       "      <td>SEOUL</td>\n",
       "      <td>6732</td>\n",
       "      <td>0</td>\n",
       "    </tr>\n",
       "    <tr>\n",
       "      <th>17</th>\n",
       "      <td>전소미</td>\n",
       "      <td>LA</td>\n",
       "      <td>9828</td>\n",
       "      <td>0</td>\n",
       "    </tr>\n",
       "    <tr>\n",
       "      <th>18</th>\n",
       "      <td>정채연</td>\n",
       "      <td>SEOUL</td>\n",
       "      <td>2208</td>\n",
       "      <td>0</td>\n",
       "    </tr>\n",
       "    <tr>\n",
       "      <th>19</th>\n",
       "      <td>주결경</td>\n",
       "      <td>SEOUL</td>\n",
       "      <td>7373</td>\n",
       "      <td>0</td>\n",
       "    </tr>\n",
       "    <tr>\n",
       "      <th>20</th>\n",
       "      <td>주학년</td>\n",
       "      <td>CICAGO</td>\n",
       "      <td>1379</td>\n",
       "      <td>1</td>\n",
       "    </tr>\n",
       "    <tr>\n",
       "      <th>21</th>\n",
       "      <td>최유정</td>\n",
       "      <td>LA</td>\n",
       "      <td>7137</td>\n",
       "      <td>0</td>\n",
       "    </tr>\n",
       "    <tr>\n",
       "      <th>22</th>\n",
       "      <td>타카다 켄타</td>\n",
       "      <td>LA</td>\n",
       "      <td>4091</td>\n",
       "      <td>1</td>\n",
       "    </tr>\n",
       "    <tr>\n",
       "      <th>23</th>\n",
       "      <td>하성운</td>\n",
       "      <td>CICAGO</td>\n",
       "      <td>8721</td>\n",
       "      <td>1</td>\n",
       "    </tr>\n",
       "    <tr>\n",
       "      <th>24</th>\n",
       "      <td>김사랑</td>\n",
       "      <td>CICAGO</td>\n",
       "      <td>6000</td>\n",
       "      <td>0</td>\n",
       "    </tr>\n",
       "  </tbody>\n",
       "</table>\n",
       "</div>"
      ],
      "text/plain": [
       "        이름     근무지  연봉_만원  Sex\n",
       "0     강다니엘   SEOUL   5419    1\n",
       "1      강동호  CICAGO   6443    1\n",
       "2      강미나   SEOUL    445    0\n",
       "3      권현빈      LA   1199    1\n",
       "4      김도연  CICAGO   7579    0\n",
       "5     김사무엘   SEOUL    290    1\n",
       "6      김세정  CICAGO   4113    0\n",
       "7      김소혜   SEOUL   1200    0\n",
       "8      김청하   SEOUL   5447    0\n",
       "9      노태현  CICAGO   3126    1\n",
       "10    라이관린      LA   6890    1\n",
       "11     박우진      LA   2371    1\n",
       "12     박지훈   SEOUL   7980    1\n",
       "13     배진영  CICAGO   8399    1\n",
       "14     옹성우   SEOUL   2477    1\n",
       "15     유연정   SEOUL   8474    0\n",
       "16     임나영   SEOUL   6732    0\n",
       "17     전소미      LA   9828    0\n",
       "18     정채연   SEOUL   2208    0\n",
       "19     주결경   SEOUL   7373    0\n",
       "20     주학년  CICAGO   1379    1\n",
       "21     최유정      LA   7137    0\n",
       "22  타카다 켄타      LA   4091    1\n",
       "23     하성운  CICAGO   8721    1\n",
       "24     김사랑  CICAGO   6000    0"
      ]
     },
     "execution_count": 6,
     "metadata": {},
     "output_type": "execute_result"
    }
   ],
   "source": [
    "data_frame['Sex']=data_frame['성별'].replace({'M':1,'F':0}) \n",
    "data_frame.drop('성별',axis=1)"
   ]
  },
  {
   "cell_type": "markdown",
   "metadata": {},
   "source": [
    "### 3) 근무지별, 성별 평균 연봉을 구하라."
   ]
  },
  {
   "cell_type": "code",
   "execution_count": 7,
   "metadata": {
    "colab": {
     "base_uri": "https://localhost:8080/"
    },
    "executionInfo": {
     "elapsed": 748,
     "status": "ok",
     "timestamp": 1610296485073,
     "user": {
      "displayName": "Namhyoung Kim",
      "photoUrl": "",
      "userId": "10452528424857445283"
     },
     "user_tz": -540
    },
    "id": "t5b3WM4oaVgN",
    "outputId": "eb70c094-59bd-4bd1-f6e0-19ef6a1eaf86"
   },
   "outputs": [
    {
     "name": "stdout",
     "output_type": "stream",
     "text": [
      "조건별 평균 연봉\n",
      "LA: 5252.67\n",
      "SEOUL: 4367.73\n",
      "CICAGO: 5720.00\n",
      "남자: 4521.92\n",
      "여자: 5544.67\n"
     ]
    }
   ],
   "source": [
    "print(\"조건별 평균 연봉\")\n",
    "print(\"LA: %.2f\" %(data_frame[\"연봉_만원\"][data_frame['근무지']=='LA'].mean()))\n",
    "print(\"SEOUL: %.2f\" %(data_frame[\"연봉_만원\"][data_frame['근무지']=='SEOUL'].mean()))\n",
    "print(\"CICAGO: %.2f\" %(data_frame[\"연봉_만원\"][data_frame['근무지']=='CICAGO'].mean()))\n",
    "print(\"남자: %.2f\" %(data_frame[\"연봉_만원\"][data_frame['성별']=='M'].mean()))\n",
    "print(\"여자: %.2f\" %(data_frame[\"연봉_만원\"][data_frame['성별']=='F'].mean()))"
   ]
  },
  {
   "cell_type": "markdown",
   "metadata": {},
   "source": [
    "### 4) 성별이 M이고 SEOUL에서 일하는 사람들의 평균 연봉을 구하라."
   ]
  },
  {
   "cell_type": "code",
   "execution_count": 8,
   "metadata": {
    "colab": {
     "base_uri": "https://localhost:8080/"
    },
    "executionInfo": {
     "elapsed": 762,
     "status": "ok",
     "timestamp": 1610296517471,
     "user": {
      "displayName": "Namhyoung Kim",
      "photoUrl": "",
      "userId": "10452528424857445283"
     },
     "user_tz": -540
    },
    "id": "X8KuPGvVaVkC",
    "outputId": "c071131a-4d5b-4b81-cf87-a3ba035e8625"
   },
   "outputs": [
    {
     "data": {
      "text/plain": [
       "4041.5"
      ]
     },
     "execution_count": 8,
     "metadata": {},
     "output_type": "execute_result"
    }
   ],
   "source": [
    "data_frame[\"연봉_만원\"][(data_frame['성별']=='M') & (data_frame['근무지'] =='SEOUL')].mean()"
   ]
  },
  {
   "cell_type": "markdown",
   "metadata": {},
   "source": [
    "### 5) 연봉이 5000이상인 사람들 중 여성의 비율을 구하여라. "
   ]
  },
  {
   "cell_type": "code",
   "execution_count": 9,
   "metadata": {
    "colab": {
     "base_uri": "https://localhost:8080/"
    },
    "executionInfo": {
     "elapsed": 1060,
     "status": "ok",
     "timestamp": 1609765135001,
     "user": {
      "displayName": "Namhyoung Kim",
      "photoUrl": "",
      "userId": "10452528424857445283"
     },
     "user_tz": -540
    },
    "id": "dNZp7hqOaVtb",
    "outputId": "f6f108b0-0cb5-48c5-b2fd-03bda2952f1f"
   },
   "outputs": [
    {
     "name": "stdout",
     "output_type": "stream",
     "text": [
      "0.5714285714285714\n"
     ]
    }
   ],
   "source": [
    "n = len(data_frame[data_frame['연봉_만원']>=5000])\n",
    "print(len(data_frame[(data_frame['성별']=='F') & (data_frame['연봉_만원']>=5000)])/n)"
   ]
  }
 ],
 "metadata": {
  "colab": {
   "authorship_tag": "ABX9TyORwXjpjZ5vIO1TJfVgwFyD",
   "collapsed_sections": [],
   "name": "ch7.ipynb",
   "provenance": []
  },
  "kernelspec": {
   "display_name": "Python 3",
   "language": "python",
   "name": "python3"
  },
  "language_info": {
   "codemirror_mode": {
    "name": "ipython",
    "version": 3
   },
   "file_extension": ".py",
   "mimetype": "text/x-python",
   "name": "python",
   "nbconvert_exporter": "python",
   "pygments_lexer": "ipython3",
   "version": "3.7.3"
  }
 },
 "nbformat": 4,
 "nbformat_minor": 1
}
