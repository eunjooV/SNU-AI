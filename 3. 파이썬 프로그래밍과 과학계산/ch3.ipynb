{
 "cells": [
  {
   "cell_type": "code",
   "execution_count": 6,
   "metadata": {
    "colab": {
     "base_uri": "https://localhost:8080/"
    },
    "id": "fXWJhWwXh4hi",
    "outputId": "a3421b11-7104-438c-93cf-31c2c1c8eff2"
   },
   "outputs": [
    {
     "name": "stdout",
     "output_type": "stream",
     "text": [
      "Mounted at /content/drive\n"
     ]
    }
   ],
   "source": [
    "# google drive에서 파일 가져오거나 생성\n",
    "from google.colab import drive\n",
    "drive.mount('/content/drive') # 실행 후 파일이 저장되어 있는 본인 구글 계정 선택 후 나오는 코드를 네모칸에 입력"
   ]
  },
  {
   "cell_type": "markdown",
   "metadata": {
    "id": "fbnJSQTyZ1ny"
   },
   "source": [
    "## 1. 다음은 두 개의 숫자를 입력받아 더하여 돌려주는 프로그램이다. 3과 6을 입력했을 때 9가 아닌 36이라는 결괏값을 돌려주었다. 이 프로그램의 오류를 수정해 보자. "
   ]
  },
  {
   "cell_type": "code",
   "execution_count": 13,
   "metadata": {
    "colab": {
     "base_uri": "https://localhost:8080/"
    },
    "id": "vnhAjq5GVysW",
    "outputId": "ad96db18-bfab-4c75-bc60-2fa52be682f6"
   },
   "outputs": [
    {
     "name": "stdout",
     "output_type": "stream",
     "text": [
      "첫번재 숫자를 입력하세요:3\n",
      "두번째 숫자를 입력하세요:6\n",
      "두 수의 합은 9 입니다\n"
     ]
    }
   ],
   "source": [
    "input1 = input(\"첫번재 숫자를 입력하세요:\")\n",
    "input2 = input(\"두번째 숫자를 입력하세요:\")\n",
    "\n",
    "total = int(input1) + int(input2)\n",
    "print(\"두 수의 합은 %s 입니다\" % total)"
   ]
  },
  {
   "cell_type": "markdown",
   "metadata": {},
   "source": [
    "-> input으로 받은 숫자는 문자열이다. 문자열을 더하면 문자그대로 옆에 붙여진다. 따라서 input으로 받은 숫자값을 정수형으로 바꾸어 주어야한다."
   ]
  },
  {
   "cell_type": "markdown",
   "metadata": {
    "id": "0andYB78Z1oB"
   },
   "source": [
    "## 2. 아래와 같이 총 10줄로 이루어진 sample.txt 파일이 있다. 아래와 같이 sample.txt 파일의 숫자값을 모두 읽어 총합과 평균값을 구한 후 평균값을  result.txt 라는 파일에 쓰는 프로그램을 작성해 보자. "
   ]
  },
  {
   "cell_type": "code",
   "execution_count": 12,
   "metadata": {
    "id": "mBBHjZu3WWf0"
   },
   "outputs": [],
   "source": [
    "f= open(\"/content/drive/My Drive/python/data/sample.txt\",'r')\n",
    "lines = f.readlines()\n",
    "f.close()\n",
    "\n",
    "total = 0\n",
    "for line in lines:\n",
    "    score = int(line)\n",
    "    total += score\n",
    "\n",
    "average = total/len(lines)\n",
    "\n",
    "f = open(\"/content/drive/My Drive/python/data/result.txt\",'w')\n",
    "f.write(str(average))\n",
    "f.close()"
   ]
  },
  {
   "cell_type": "code",
   "execution_count": null,
   "metadata": {
    "id": "n8QlmdFWgDbX"
   },
   "outputs": [],
   "source": []
  }
 ],
 "metadata": {
  "colab": {
   "collapsed_sections": [],
   "name": "ch3.ipynb",
   "provenance": []
  },
  "kernelspec": {
   "display_name": "Python 3",
   "language": "python",
   "name": "python3"
  },
  "language_info": {
   "codemirror_mode": {
    "name": "ipython",
    "version": 3
   },
   "file_extension": ".py",
   "mimetype": "text/x-python",
   "name": "python",
   "nbconvert_exporter": "python",
   "pygments_lexer": "ipython3",
   "version": "3.7.3"
  }
 },
 "nbformat": 4,
 "nbformat_minor": 1
}
